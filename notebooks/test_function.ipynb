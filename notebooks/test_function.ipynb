{
 "cells": [
  {
   "cell_type": "code",
   "execution_count": 18,
   "id": "0b73155e",
   "metadata": {},
   "outputs": [],
   "source": [
    "import numpy as np\n",
    "import pandas as pd\n",
    "from sklearn.impute import SimpleImputer"
   ]
  },
  {
   "cell_type": "code",
   "execution_count": 44,
   "id": "3c43712f",
   "metadata": {},
   "outputs": [],
   "source": [
    "def impute_missing_values(df):\n",
    "    \"\"\"\n",
    "    Impute missing values in the DataFrame.\n",
    "\n",
    "    Parameters:\n",
    "    df (pd.DataFrame): The DataFrame with missing values.\n",
    "\n",
    "    Returns:\n",
    "    pd.DataFrame: DataFrame with missing values imputed.\n",
    "    \"\"\"\n",
    "    # replace None with np.nan for consistency\n",
    "    df = df.replace({None: np.nan})\n",
    "\n",
    "    # Create a copy of the DataFrame to avoid modifying the original\n",
    "    df_imputed = df.copy(deep=True)\n",
    "\n",
    "    # Separate columns by type\n",
    "    numeric_cols = df.select_dtypes(include=[\"number\"]).columns\n",
    "    categorical_cols = df.select_dtypes(include=[\"object\"]).columns\n",
    "\n",
    "    # Imputer for numerical columns\n",
    "    numeric_imputer = SimpleImputer(strategy=\"mean\")\n",
    "    if numeric_cols.empty:\n",
    "        print(\"No numeric columns to impute.\")\n",
    "    else:\n",
    "        print(f\"Numeric columns to impute: {numeric_cols.tolist()}\")\n",
    "        df_imputed[numeric_cols] = pd.DataFrame(        # DataFrame wrapping to ensure correct shape\n",
    "            numeric_imputer.fit_transform(df[numeric_cols]),\n",
    "            columns=numeric_cols,\n",
    "            index=df.index\n",
    "        )\n",
    "\n",
    "    # Imputer for categorical columns\n",
    "    categorical_imputer = SimpleImputer(strategy=\"constant\", fill_value=\"NA\")\n",
    "    if categorical_cols.empty:\n",
    "        print(\"No categorical columns to impute.\")\n",
    "    else:\n",
    "        print(f\"Categorical columns to impute: {categorical_cols.tolist()}\")\n",
    "        df_imputed[categorical_cols] = pd.DataFrame(\n",
    "            categorical_imputer.fit_transform(df[categorical_cols]),\n",
    "            columns=categorical_cols,\n",
    "            index=df.index\n",
    "        )\n",
    "\n",
    "    return df_imputed\n",
    "\n",
    "\n",
    "def one_hot_encoding(df):\n",
    "    \"\"\"\n",
    "    Perform one-hot encoding on categorical columns in the DataFrame.\n",
    "\n",
    "    Parameters:\n",
    "    df (pd.DataFrame): The DataFrame to encode.\n",
    "\n",
    "    Returns:\n",
    "    pd.DataFrame: DataFrame with one-hot encoded categorical columns.\n",
    "    \"\"\"\n",
    "    return pd.get_dummies(df, drop_first=True)\n"
   ]
  },
  {
   "cell_type": "code",
   "execution_count": 46,
   "id": "3f33283b",
   "metadata": {},
   "outputs": [
    {
     "name": "stdout",
     "output_type": "stream",
     "text": [
      "Numeric columns to impute: ['A', 'C']\n",
      "Categorical columns to impute: ['B']\n"
     ]
    }
   ],
   "source": [
    "def test_impute_missing_values():\n",
    "    # Create a sample DataFrame with missing values\n",
    "    data = {\n",
    "        \"A\": [1, 2, None, 4],\n",
    "        \"B\": [\"cat\", None, \"dog\", np.nan],\n",
    "        \"C\": [None, 2.5, 3.5, np.nan],\n",
    "    }\n",
    "    df = pd.DataFrame(data)\n",
    "\n",
    "    # Impute missing values\n",
    "    df_imputed = impute_missing_values(df)\n",
    "\n",
    "    # Check if missing values are imputed correctly\n",
    "    assert df_imputed[\"A\"].isnull().sum() == 0\n",
    "    assert df_imputed[\"B\"].isnull().sum() == 0\n",
    "    assert df_imputed[\"C\"].isnull().sum() == 0\n",
    "\n",
    "test_impute_missing_values()"
   ]
  },
  {
   "cell_type": "code",
   "execution_count": 63,
   "id": "cdf7ed3c",
   "metadata": {},
   "outputs": [],
   "source": [
    "def test_one_hot_encoding():\n",
    "    # Create a sample DataFrame with categorical data\n",
    "    data = {\n",
    "        \"A\": [\"cat\", \"mouse\", \"dog\", \"horse\"],\n",
    "        \"B\": [1, 2, 3, 4]\n",
    "    }\n",
    "    df = pd.DataFrame(data)\n",
    "\n",
    "    # Perform one-hot encoding\n",
    "    df_encoded = one_hot_encoding(df)\n",
    "\n",
    "    # Check if one-hot encoding is applied correctly\n",
    "    assert \"A_cat\" not in df_encoded.columns\n",
    "    assert \"A_dog\" in df_encoded.columns\n",
    "    assert \"A_mouse\" in df_encoded.columns\n",
    "    assert df_encoded.shape[1] == 4 # 2 original columns + 2 new one-hot encoded columns (dropping first category)\n",
    "\n",
    "test_one_hot_encoding()"
   ]
  },
  {
   "cell_type": "code",
   "execution_count": null,
   "id": "6cee8102",
   "metadata": {},
   "outputs": [],
   "source": []
  }
 ],
 "metadata": {
  "kernelspec": {
   "display_name": ".venv",
   "language": "python",
   "name": "python3"
  },
  "language_info": {
   "codemirror_mode": {
    "name": "ipython",
    "version": 3
   },
   "file_extension": ".py",
   "mimetype": "text/x-python",
   "name": "python",
   "nbconvert_exporter": "python",
   "pygments_lexer": "ipython3",
   "version": "3.12.3"
  }
 },
 "nbformat": 4,
 "nbformat_minor": 5
}
